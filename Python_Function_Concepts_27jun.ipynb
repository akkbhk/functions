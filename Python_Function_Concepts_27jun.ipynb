{
  "cells": [
    {
      "cell_type": "markdown",
      "id": "d8a4f051",
      "metadata": {
        "id": "d8a4f051"
      },
      "source": [
        "# Python Function"
      ]
    },
    {
      "cell_type": "markdown",
      "id": "daf2a245",
      "metadata": {
        "id": "daf2a245"
      },
      "source": [
        "1. What is the difference between a function and a method in Python?\n",
        "  - Function: A block of reusable code defined using def. It can be standalone.\n",
        "Method: A function associated with an object and is called using dot notation, e.g., list.append()."
      ]
    },
    {
      "cell_type": "markdown",
      "id": "2acd7321",
      "metadata": {
        "id": "2acd7321"
      },
      "source": [
        "2. Function Arguments and Parameters\n",
        "  - In Python, **parameters** are variables listed in a function definition, while **arguments** are actual values passed when calling the function.\n",
        "Example: `def greet(name):` → `name` is a parameter; `greet(\"Amit\")` → `\"Amit\"` is an argument.\n",
        "Python supports positional, keyword, default, and variable-length arguments.\n",
        "These help functions receive and work with input values flexibly.\n"
      ]
    },
    {
      "cell_type": "markdown",
      "source": [
        "3. What are the different ways to define and call a function in Python?\n",
        "  - In Python, you can define a function using def or a lambda (anonymous function).\n",
        "Functions can have default, positional, keyword, *args, and **kwargs parameters.\n",
        "They are called using positional or keyword arguments, or by unpacking *args/**kwargs.\n",
        "Example: def add(a, b=0): return a + b and call with add(2) or add(2, 3)."
      ],
      "metadata": {
        "id": "9soSctIYd-g0"
      },
      "id": "9soSctIYd-g0"
    },
    {
      "cell_type": "markdown",
      "source": [
        "4. What is the purpose of the `return` statement in a Python function?\n",
        "  - The return statement is used to exit a function in Python.\n",
        "It immediately stops the function’s execution and optionally returns a value.\n",
        "5.  What are iterators in Python and how do they differ from iterables?\n",
        "  - Iterables are objects that can be looped over (e.g., lists, strings, tuples).\n",
        "\n",
        "  - Iterators are objects created from iterables using iter(), and they produce items one at a time using next().\n",
        "6.  Explain the concept of generators in Python and how they are defined.\n",
        "  - Generators in Python are a way to create iterators using functions.\n",
        "They use the yield keyword to return values one at a time, pausing between each.\n",
        "Generators are memory-efficient because they don't store the whole sequence in memory.\n",
        "They are defined like normal functions but use yield instead of return.\n",
        "7.  What are the advantages of using generators over regular functions?\n",
        "  - Generators are great when you want to work with large or infinite sequences without using a lot of memory.\n",
        "They give you one value at a time, only when needed, and remember where they left off.\n",
        "This makes your code faster and more efficient, especially for big data or streams.\n",
        "Plus, they’re simple to write and read using yield instead of building full lists.\n",
        "8.  What is a lambda function in Python and when is it typically used?\n",
        "  - A lambda function in Python is a small, anonymous function defined using the lambda keyword.\n",
        "9. Explain the purpose and usage of the `map()` function in Python.\n",
        "  - The map() function in Python applies a given function to every item in an iterable (like a list or tuple).\n",
        "It returns a map object (an iterator), which can be converted to a list or used in a loop.\n",
        "It's useful for transforming data without writing explicit loops.\n",
        "10.  What is the difference between `map()`, `reduce()`, and `filter()` functions in Python?\n",
        "  - map() applies a function to each item in an iterable and returns a new iterable of the results.\n",
        "Example: map(lambda x: x*2, [1, 2, 3]) → [2, 4, 6]\n",
        "\n",
        "  - filter() applies a function to test each item and returns only the items where the function returns True.\n",
        "Example: filter(lambda x: x > 1, [1, 2, 3]) → [2, 3]\n",
        "\n",
        "  - reduce() (from functools) applies a function cumulatively to items, reducing the iterable to a single value.\n",
        "Example: reduce(lambda x, y: x + y, [1, 2, 3]) → 6"
      ],
      "metadata": {
        "id": "uJ-RoY7i379X"
      },
      "id": "uJ-RoY7i379X"
    },
    {
      "cell_type": "markdown",
      "source": [
        "#Practical Questions"
      ],
      "metadata": {
        "id": "rwSO-4kE6W52"
      },
      "id": "rwSO-4kE6W52"
    },
    {
      "cell_type": "code",
      "source": [
        "\n",
        "# 1. Write a Python function that takes a list of numbers as input and returns the sum of all even numbers in the list.\n",
        "def sum_even_numbers(numbers):\n",
        "    return sum(num for num in numbers if num % 2 == 0)\n",
        "numbers = [1, 2, 3, 4, 5]\n",
        "print(sum_even_numbers(numbers))\n"
      ],
      "metadata": {
        "colab": {
          "base_uri": "https://localhost:8080/"
        },
        "id": "5xWh7mWt6yWp",
        "outputId": "abe410e2-7941-4b20-f3e5-13fd4400fa33"
      },
      "id": "5xWh7mWt6yWp",
      "execution_count": 3,
      "outputs": [
        {
          "output_type": "stream",
          "name": "stdout",
          "text": [
            "6\n"
          ]
        }
      ]
    },
    {
      "cell_type": "code",
      "source": [
        "# 2. Create a Python function that accepts a string and returns the reverse of that string.\n",
        "def reverse_string(s):\n",
        "    return s[::-1]\n",
        "data = \"Amit\"\n",
        "print(reverse_string(data))\n",
        "\n"
      ],
      "metadata": {
        "colab": {
          "base_uri": "https://localhost:8080/"
        },
        "id": "T7D4eQWp6_NV",
        "outputId": "f920d886-e7c6-4cb8-ecdf-157b0081cf5e"
      },
      "id": "T7D4eQWp6_NV",
      "execution_count": 4,
      "outputs": [
        {
          "output_type": "stream",
          "name": "stdout",
          "text": [
            "timA\n"
          ]
        }
      ]
    },
    {
      "cell_type": "code",
      "source": [
        "# 3. Implement a Python function that takes a list of integers and returns a new list containing the squares of each number.\n",
        "def square_list(numbers):\n",
        "    return [num ** 2 for num in numbers]\n",
        "number = [1, 2, 3, 4, 5]\n",
        "print(square_list(number))\n",
        "\n"
      ],
      "metadata": {
        "colab": {
          "base_uri": "https://localhost:8080/"
        },
        "id": "FNR1CdHE7Ob5",
        "outputId": "d0f09731-e71b-458a-fed9-3a5d18f3ba60"
      },
      "id": "FNR1CdHE7Ob5",
      "execution_count": 5,
      "outputs": [
        {
          "output_type": "stream",
          "name": "stdout",
          "text": [
            "[1, 4, 9, 16, 25]\n"
          ]
        }
      ]
    },
    {
      "cell_type": "code",
      "source": [
        "# 4. Write a Python function that checks if a given number is prime or not from 1 to 200.\n",
        "def is_prime(n):\n",
        "    if n <= 1:\n",
        "        return False\n",
        "    for i in range(2, int(n ** 0.5) + 1):\n",
        "        if n % i == 0:\n",
        "            return False\n",
        "    return True\n",
        "\n",
        "# Example: Find all prime numbers from 1 to 200\n",
        "primes = [n for n in range(1, 201) if is_prime(n)]\n",
        "\n",
        "print(primes)\n",
        "\n"
      ],
      "metadata": {
        "colab": {
          "base_uri": "https://localhost:8080/"
        },
        "id": "ue2pSn4a7X8c",
        "outputId": "ae3a9e66-461e-4497-dffb-a54fd4eed069"
      },
      "id": "ue2pSn4a7X8c",
      "execution_count": 7,
      "outputs": [
        {
          "output_type": "stream",
          "name": "stdout",
          "text": [
            "[2, 3, 5, 7, 11, 13, 17, 19, 23, 29, 31, 37, 41, 43, 47, 53, 59, 61, 67, 71, 73, 79, 83, 89, 97, 101, 103, 107, 109, 113, 127, 131, 137, 139, 149, 151, 157, 163, 167, 173, 179, 181, 191, 193, 197, 199]\n"
          ]
        }
      ]
    },
    {
      "cell_type": "code",
      "source": [
        "# 6. Write a generator function in Python that yields the powers of 2 up to a given exponent.\n",
        "def powers_of_two(max_exponent):\n",
        "    for i in range(max_exponent + 1):\n",
        "        yield 2 ** i\n",
        "number = 5\n",
        "for power in powers_of_two(number):\n",
        "    print(power)\n",
        "\n"
      ],
      "metadata": {
        "colab": {
          "base_uri": "https://localhost:8080/"
        },
        "id": "6kQ049HV7jWE",
        "outputId": "3eb61fbd-057e-4826-dcaa-ff6d3f33acc9"
      },
      "id": "6kQ049HV7jWE",
      "execution_count": 8,
      "outputs": [
        {
          "output_type": "stream",
          "name": "stdout",
          "text": [
            "1\n",
            "2\n",
            "4\n",
            "8\n",
            "16\n",
            "32\n"
          ]
        }
      ]
    },
    {
      "cell_type": "code",
      "source": [
        "# 8. Use a lambda function in Python to sort a list of tuples based on the second element of each tuple.\n",
        "tuples = [(1, 3), (4, 1), (2, 2)]\n",
        "sorted_tuples = sorted(tuples, key=lambda x: x[1])\n",
        "\n",
        "print(sorted_tuples)\n",
        "\n"
      ],
      "metadata": {
        "colab": {
          "base_uri": "https://localhost:8080/"
        },
        "id": "L5ooJqvB7pVF",
        "outputId": "4e18e7da-81e9-48b5-ff1b-0265e31120ec"
      },
      "id": "L5ooJqvB7pVF",
      "execution_count": 9,
      "outputs": [
        {
          "output_type": "stream",
          "name": "stdout",
          "text": [
            "[(4, 1), (2, 2), (1, 3)]\n"
          ]
        }
      ]
    },
    {
      "cell_type": "code",
      "source": [
        "# 9. Write a Python program that uses `map()` to convert a list of temperatures from Celsius to Fahrenheit.\n",
        "celsius = [0, 25, 37, 100]\n",
        "fahrenheit = list(map(lambda c: (c * 9/5) + 32, celsius))\n",
        "\n",
        "print(fahrenheit)\n"
      ],
      "metadata": {
        "colab": {
          "base_uri": "https://localhost:8080/"
        },
        "id": "8lO6bd-_7rQ2",
        "outputId": "5d2e4944-b7ae-4f0e-de92-ce6796dd36fe"
      },
      "id": "8lO6bd-_7rQ2",
      "execution_count": 10,
      "outputs": [
        {
          "output_type": "stream",
          "name": "stdout",
          "text": [
            "[32.0, 77.0, 98.6, 212.0]\n"
          ]
        }
      ]
    },
    {
      "cell_type": "code",
      "source": [
        "# 10. Create a Python program that uses `filter()` to remove all the vowels from a given string.\n",
        "def remove_vowels(s):\n",
        "    vowels = 'aeiouAEIOU'\n",
        "    return ''.join(filter(lambda x: x not in vowels, s))\n",
        "data = \"amit\"\n",
        "newdata = remove_vowels(data)\n",
        "print(newdata)"
      ],
      "metadata": {
        "colab": {
          "base_uri": "https://localhost:8080/"
        },
        "id": "B3P5ZKXN7tHO",
        "outputId": "62b9bb02-61e1-43fa-81a4-615c0482580c"
      },
      "id": "B3P5ZKXN7tHO",
      "execution_count": 11,
      "outputs": [
        {
          "output_type": "stream",
          "name": "stdout",
          "text": [
            "mt\n"
          ]
        }
      ]
    }
  ],
  "metadata": {
    "colab": {
      "provenance": []
    },
    "language_info": {
      "name": "python"
    },
    "kernelspec": {
      "name": "python3",
      "display_name": "Python 3"
    }
  },
  "nbformat": 4,
  "nbformat_minor": 5
}